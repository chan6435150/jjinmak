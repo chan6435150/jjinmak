{
 "cells": [
  {
   "cell_type": "markdown",
   "id": "ff4dd0e1",
   "metadata": {},
   "source": [
    "\n",
    "# LoRA 그림체 학습 최종본 (모바일 최적화)\n",
    "\n",
    "이 노트북은 wandb 비활성화 및 CLIP 오류까지 수정된 최종본입니다.\n"
   ]
  },
  {
   "cell_type": "code",
   "execution_count": null,
   "id": "d42b08ac",
   "metadata": {},
   "outputs": [],
   "source": [
    "from google.colab import drive\n",
    "drive.mount('/content/drive')"
   ]
  },
  {
   "cell_type": "code",
   "execution_count": null,
   "id": "9f600908",
   "metadata": {},
   "outputs": [],
   "source": [
    "train_dir = \"/content/drive/MyDrive/train_data\"\n",
    "output_dir = \"/content/drive/MyDrive/output_lora\" "
   ]
  },
  {
   "cell_type": "code",
   "execution_count": null,
   "id": "bf63a5ac",
   "metadata": {},
   "outputs": [],
   "source": [
    "!pip install transformers==4.31.0 diffusers==0.21.4 huggingface_hub==0.16.4 --force-reinstall --no-deps\n",
    "!pip install accelerate==0.21.0 peft==0.5.0"
   ]
  },
  {
   "cell_type": "code",
   "execution_count": null,
   "id": "a796114e",
   "metadata": {},
   "outputs": [],
   "source": [
    "from diffusers import StableDiffusionPipeline\n",
    "import torch\n",
    "\n",
    "model_id = \"runwayml/stable-diffusion-v1-5\"\n",
    "pipe = StableDiffusionPipeline.from_pretrained(\n",
    "    model_id,\n",
    "    torch_dtype=torch.float16\n",
    ").to(\"cuda\")\n",
    "\n",
    "prompt = \"a portrait in your trained style\"\n",
    "image = pipe(prompt).images[0]\n",
    "image.save(f\"{output_dir}/test_sample.png\")"
   ]
  },
  {
   "cell_type": "code",
   "execution_count": null,
   "id": "cf381c75",
   "metadata": {},
   "outputs": [],
   "source": [
    "from peft import LoraConfig, get_peft_model, TaskType\n",
    "from transformers import CLIPTextModelWithProjection, CLIPTokenizer\n",
    "\n",
    "tokenizer = CLIPTokenizer.from_pretrained(\"openai/clip-vit-large-patch14\")\n",
    "text_encoder = CLIPTextModelWithProjection.from_pretrained(\"openai/clip-vit-large-patch14\")\n",
    "\n",
    "peft_config = LoraConfig(\n",
    "    task_type=TaskType.FEATURE_EXTRACTION,\n",
    "    inference_mode=False,\n",
    "    r=4,\n",
    "    lora_alpha=16,\n",
    "    lora_dropout=0.1,\n",
    "    target_modules=[\"q_proj\", \"v_proj\"]\n",
    ")\n",
    "\n",
    "model = get_peft_model(text_encoder, peft_config)"
   ]
  },
  {
   "cell_type": "code",
   "execution_count": null,
   "id": "e22cfdc1",
   "metadata": {},
   "outputs": [],
   "source": [
    "from transformers import TrainingArguments, Trainer\n",
    "\n",
    "training_args = TrainingArguments(\n",
    "    output_dir=output_dir,\n",
    "    per_device_train_batch_size=1,\n",
    "    num_train_epochs=10,\n",
    "    logging_dir=f\"{output_dir}/logs\",\n",
    "    save_strategy=\"epoch\",\n",
    "    report_to=[]  # wandb 완전 끔\n",
    ")"
   ]
  },
  {
   "cell_type": "code",
   "execution_count": null,
   "id": "e731c3ca",
   "metadata": {},
   "outputs": [],
   "source": [
    "from torch.utils.data import Dataset\n",
    "from torchvision import transforms\n",
    "from PIL import Image\n",
    "import os\n",
    "\n",
    "class LoraImageDataset(Dataset):\n",
    "    def __init__(self, folder_path, prompt=\"a portrait in your trained style\", image_size=512):\n",
    "        self.image_paths = [os.path.join(folder_path, f) for f in os.listdir(folder_path)\n",
    "                            if f.lower().endswith(('.png', '.jpg', '.jpeg'))]\n",
    "        self.prompt = prompt\n",
    "        self.transform = transforms.Compose([\n",
    "            transforms.Resize((image_size, image_size)),\n",
    "            transforms.ToTensor()\n",
    "        ])\n",
    "\n",
    "    def __len__(self):\n",
    "        return len(self.image_paths)\n",
    "\n",
    "    def __getitem__(self, idx):\n",
    "        image = Image.open(self.image_paths[idx]).convert(\"RGB\")\n",
    "        return {\n",
    "            \"pixel_values\": self.transform(image),\n",
    "            \"input_ids\": tokenizer(self.prompt, return_tensors=\"pt\", padding=\"max_length\", truncation=True).input_ids.squeeze(0)\n",
    "        }\n",
    "\n",
    "train_dataset = LoraImageDataset(train_dir)"
   ]
  },
  {
   "cell_type": "code",
   "execution_count": null,
   "id": "8af6ebf8",
   "metadata": {},
   "outputs": [],
   "source": [
    "trainer = Trainer(\n",
    "    model=model,\n",
    "    args=training_args,\n",
    "    train_dataset=train_dataset\n",
    ")"
   ]
  },
  {
   "cell_type": "code",
   "execution_count": null,
   "id": "c598fda7",
   "metadata": {},
   "outputs": [],
   "source": [
    "trainer.train()"
   ]
  }
 ],
 "metadata": {},
 "nbformat": 4,
 "nbformat_minor": 5
}
