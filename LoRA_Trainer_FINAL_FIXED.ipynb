{
 "cells": [
  {
   "cell_type": "markdown",
   "id": "de620c9c",
   "metadata": {},
   "source": [
    "\n",
    "# LoRA 그림체 학습 최종 수정본 (오류 패치 완료)\n",
    "\n",
    "- `CLIPTextModel` → `AutoModel` 변경  \n",
    "- `wandb` 완전 비활성화  \n",
    "- 모바일 환경에서도 최적화된 코드\n"
   ]
  },
  {
   "cell_type": "code",
   "execution_count": null,
   "id": "76055195",
   "metadata": {},
   "outputs": [],
   "source": [
    "from google.colab import drive\n",
    "drive.mount('/content/drive')"
   ]
  },
  {
   "cell_type": "code",
   "execution_count": null,
   "id": "0e49ce90",
   "metadata": {},
   "outputs": [],
   "source": [
    "train_dir = \"/content/drive/MyDrive/train_data\"\n",
    "output_dir = \"/content/drive/MyDrive/output_lora\" "
   ]
  },
  {
   "cell_type": "code",
   "execution_count": null,
   "id": "882f9c9c",
   "metadata": {},
   "outputs": [],
   "source": [
    "!pip install transformers==4.31.0 diffusers==0.21.4 huggingface_hub==0.16.4 --force-reinstall --no-deps\n",
    "!pip install accelerate==0.21.0 peft==0.5.0"
   ]
  },
  {
   "cell_type": "code",
   "execution_count": null,
   "id": "59dd29ee",
   "metadata": {},
   "outputs": [],
   "source": [
    "from diffusers import StableDiffusionPipeline\n",
    "import torch\n",
    "\n",
    "model_id = \"runwayml/stable-diffusion-v1-5\"\n",
    "pipe = StableDiffusionPipeline.from_pretrained(\n",
    "    model_id,\n",
    "    torch_dtype=torch.float16\n",
    ").to(\"cuda\")\n",
    "\n",
    "prompt = \"a portrait in your trained style\"\n",
    "image = pipe(prompt).images[0]\n",
    "image.save(f\"{output_dir}/test_sample.png\")"
   ]
  },
  {
   "cell_type": "code",
   "execution_count": null,
   "id": "6321366b",
   "metadata": {},
   "outputs": [],
   "source": [
    "from transformers import AutoTokenizer, AutoModel\n",
    "from peft import LoraConfig, get_peft_model, TaskType\n",
    "\n",
    "model_name = \"openai/clip-vit-large-patch14\"\n",
    "\n",
    "tokenizer = AutoTokenizer.from_pretrained(model_name)\n",
    "text_encoder = AutoModel.from_pretrained(model_name)\n",
    "\n",
    "peft_config = LoraConfig(\n",
    "    task_type=TaskType.FEATURE_EXTRACTION,\n",
    "    inference_mode=False,\n",
    "    r=4,\n",
    "    lora_alpha=16,\n",
    "    lora_dropout=0.1,\n",
    "    target_modules=[\"q_proj\", \"v_proj\"]\n",
    ")\n",
    "\n",
    "model = get_peft_model(text_encoder, peft_config)"
   ]
  },
  {
   "cell_type": "code",
   "execution_count": null,
   "id": "d8bc7e4f",
   "metadata": {},
   "outputs": [],
   "source": [
    "from transformers import TrainingArguments, Trainer\n",
    "\n",
    "training_args = TrainingArguments(\n",
    "    output_dir=output_dir,\n",
    "    per_device_train_batch_size=1,\n",
    "    num_train_epochs=10,\n",
    "    logging_dir=f\"{output_dir}/logs\",\n",
    "    save_strategy=\"epoch\",\n",
    "    report_to=[]  # wandb 완전 비활성화\n",
    ")"
   ]
  },
  {
   "cell_type": "code",
   "execution_count": null,
   "id": "5c3fc78b",
   "metadata": {},
   "outputs": [],
   "source": [
    "from torch.utils.data import Dataset\n",
    "from torchvision import transforms\n",
    "from PIL import Image\n",
    "import os\n",
    "\n",
    "class LoraImageDataset(Dataset):\n",
    "    def __init__(self, folder_path, prompt=\"a portrait in your trained style\", image_size=512):\n",
    "        self.image_paths = [os.path.join(folder_path, f) for f in os.listdir(folder_path)\n",
    "                            if f.lower().endswith(('.png', '.jpg', '.jpeg'))]\n",
    "        self.prompt = prompt\n",
    "        self.transform = transforms.Compose([\n",
    "            transforms.Resize((image_size, image_size)),\n",
    "            transforms.ToTensor()\n",
    "        ])\n",
    "\n",
    "    def __len__(self):\n",
    "        return len(self.image_paths)\n",
    "\n",
    "    def __getitem__(self, idx):\n",
    "        image = Image.open(self.image_paths[idx]).convert(\"RGB\")\n",
    "        return {\n",
    "            \"pixel_values\": self.transform(image),\n",
    "            \"input_ids\": tokenizer(self.prompt, return_tensors=\"pt\", padding=\"max_length\", truncation=True).input_ids.squeeze(0)\n",
    "        }\n",
    "\n",
    "train_dataset = LoraImageDataset(train_dir)"
   ]
  },
  {
   "cell_type": "code",
   "execution_count": null,
   "id": "b381d979",
   "metadata": {},
   "outputs": [],
   "source": [
    "trainer = Trainer(\n",
    "    model=model,\n",
    "    args=training_args,\n",
    "    train_dataset=train_dataset\n",
    ")"
   ]
  },
  {
   "cell_type": "code",
   "execution_count": null,
   "id": "6d4504ea",
   "metadata": {},
   "outputs": [],
   "source": [
    "trainer.train()"
   ]
  }
 ],
 "metadata": {},
 "nbformat": 4,
 "nbformat_minor": 5
}
