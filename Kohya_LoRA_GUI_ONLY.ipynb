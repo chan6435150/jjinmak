{
 "cells": [
  {
   "cell_type": "code",
   "execution_count": null,
   "id": "39ceddff",
   "metadata": {},
   "outputs": [],
   "source": [
    "from google.colab import drive\n",
    "drive.mount('/content/drive')"
   ]
  },
  {
   "cell_type": "code",
   "execution_count": null,
   "id": "d2d994fb",
   "metadata": {},
   "outputs": [],
   "source": [
    "!pip install -q xformers==0.0.20 trl==0.7.1 bitsandbytes==0.41.0   peft==0.8.2 transformers==4.36.2 accelerate==0.27.2   git+https://github.com/kohya-ss/sd-scripts.git\n"
   ]
  },
  {
   "cell_type": "code",
   "execution_count": null,
   "id": "d3e4c87e",
   "metadata": {},
   "outputs": [],
   "source": [
    "# Kohya LoRA GUI 실행\n",
    "!python /usr/local/lib/python3.11/dist-packages/kohya_ss/sd-scripts/train_network_gui.py\n"
   ]
  }
 ],
 "metadata": {
  "kernelspec": {
   "display_name": "Python 3",
   "language": "python",
   "name": "python3"
  }
 },
 "nbformat": 4,
 "nbformat_minor": 5
}
